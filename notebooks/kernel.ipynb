{
 "cells": [
  {
   "cell_type": "markdown",
   "metadata": {},
   "source": [
    "# Kernel"
   ]
  },
  {
   "cell_type": "code",
   "execution_count": 120,
   "metadata": {},
   "outputs": [
    {
     "name": "stderr",
     "output_type": "stream",
     "text": [
      "Credentials are already in use. The existing account in the session will be replaced.\n"
     ]
    },
    {
     "data": {
      "application/vnd.jupyter.widget-view+json": {
       "model_id": "413acd963d154c1baa44937f6f86f5ac",
       "version_major": 2,
       "version_minor": 0
      },
      "text/plain": [
       "Accordion(children=(VBox(layout=Layout(max_width='710px', min_width='710px')),), layout=Layout(max_height='500…"
      ]
     },
     "metadata": {},
     "output_type": "display_data"
    },
    {
     "data": {
      "application/javascript": [
       "$('div.job_widget')\n",
       "        .detach()\n",
       "        .appendTo($('#header'))\n",
       "        .css({\n",
       "            'z-index': 999,\n",
       "             'position': 'fixed',\n",
       "            'box-shadow': '5px 5px 5px -3px black',\n",
       "            'opacity': 0.95,\n",
       "            'float': 'left,'\n",
       "        })\n",
       "        "
      ],
      "text/plain": [
       "<IPython.core.display.Javascript object>"
      ]
     },
     "metadata": {},
     "output_type": "display_data"
    }
   ],
   "source": [
    "import qiskit\n",
    "from qiskit.ignis.measurement.discriminator.iq_discriminators import *\n",
    "from qiskit.result.models import ExperimentResultData\n",
    "from qiskit import IBMQ\n",
    "import qiskit.tools.jupyter\n",
    "import qiskit.pulse as pulse\n",
    "import qiskit.pulse.pulse_lib as pulse_lib\n",
    "from qiskit.compiler import assemble\n",
    "from qiskit.result import Result\n",
    "\n",
    "import matplotlib.pyplot as plt \n",
    "import numpy as np\n",
    "from copy import deepcopy\n",
    "\n",
    "%matplotlib inline\n",
    "plt.rcParams['font.size'] = 16\n",
    "\n",
    "IBMQ.load_account()\n",
    "\n",
    "%qiskit_job_watcher"
   ]
  },
  {
   "cell_type": "code",
   "execution_count": 121,
   "metadata": {},
   "outputs": [
    {
     "name": "stderr",
     "output_type": "stream",
     "text": [
      "/anaconda3/envs/qiskit/lib/python3.7/site-packages/qiskit/pulse/channels/pulse_channel_spec.py:87: DeprecationWarning: The PulseChannelSpec is deprecated. Use backend.configuration() instead. The supported methods require some migrations; check out the release notes for the complete details.\n",
      "  DeprecationWarning)\n",
      "/anaconda3/envs/qiskit/lib/python3.7/site-packages/qiskit/pulse/cmd_def.py:66: DeprecationWarning: The CmdDef is being deprecated. All CmdDef methods are now supported by `InstructionScheduleMap` accessible as `backend.defaults().circuit_instruction_map` for any Pulse enabled system.\n",
      "  DeprecationWarning)\n"
     ]
    }
   ],
   "source": [
    "provider = IBMQ.get_provider(hub='ibm-q-ncsu', group='nc-state', project='csc-591-001-ece-')\n",
    "backend = provider.get_backend('ibmq_almaden')\n",
    "back_config = backend.configuration().to_dict()\n",
    "device = pulse.PulseChannelSpec.from_backend(backend)\n",
    "defaults = backend.defaults()\n",
    "cmd_def = pulse.CmdDef.from_defaults(defaults.cmd_def, defaults.pulse_library)\n",
    "n_qubits = backend.configuration().n_qubits"
   ]
  },
  {
   "cell_type": "code",
   "execution_count": 122,
   "metadata": {},
   "outputs": [],
   "source": [
    "# from qiskit import *\n",
    "# cct=QuantumCircuit(2)\n",
    "# cct.h(0)\n",
    "# cct.decompose().draw()"
   ]
  },
  {
   "cell_type": "code",
   "execution_count": 123,
   "metadata": {},
   "outputs": [],
   "source": [
    "# # Create the pulse schedule\n",
    "# qubits = [0, 1]\n",
    "# schedules = []\n",
    "# meas_buffer = 2\n",
    "# shots = 512\n",
    "# experiment_name = 'X90pi'\n",
    "\n",
    "# meas = cmd_def.get('measure', qubits=tuple(range(n_qubits)))\n",
    "\n",
    "# # Create a calibration schedule for the ground state.\n",
    "# schedule_no_pi = pulse.Schedule(name='cal_00')\n",
    "# schedule_no_pi += meas\n",
    "\n",
    "# # Create a calibration schedule for the excited state.\n",
    "# schedule_pi = pulse.Schedule(name='cal_11')\n",
    "# for q in qubits:\n",
    "#     xgate = cmd_def.get('x', qubits=q)\n",
    "#     schedule_pi += xgate\n",
    "\n",
    "# schedule_pi += meas << (schedule_pi.duration + meas_buffer)\n",
    "\n",
    "# # Measurement schedule. Do an X90p gate on both qubits.\n",
    "# schedule_x90p = pulse.Schedule(name=experiment_name)\n",
    "# for q in qubits:\n",
    "#     x90p = cmd_def.get('u3', qubits=q, P0=np.pi/2., P1=0., P2=0.)\n",
    "#     schedule_x90p += x90p\n",
    "    \n",
    "# schedule_x90p += meas << (schedule_x90p.duration + meas_buffer)\n",
    "    \n",
    "# # schedules = [schedule_no_pi, schedule_pi, schedule_x90p]\n",
    "# # schedules = [schedule_no_pi]"
   ]
  },
  {
   "cell_type": "code",
   "execution_count": 124,
   "metadata": {
    "scrolled": true
   },
   "outputs": [],
   "source": [
    "# plt_chs = []\n",
    "# for q in [0, 1]:\n",
    "#     plt_chs.append(device.qubits[q].measure)\n",
    "#     plt_chs.append(device.qubits[q].drive)\n",
    "\n",
    "# schedules[0].draw(channels_to_plot=plt_chs, scaling=10.)"
   ]
  },
  {
   "cell_type": "code",
   "execution_count": 125,
   "metadata": {},
   "outputs": [],
   "source": [
    "ibmq_20_tokyo = provider.get_backend('ibmq_20_tokyo')\n",
    "ibmq_poughkeepsie = provider.get_backend('ibmq_poughkeepsie')\n",
    "ibmq_boeblingen = provider.get_backend('ibmq_boeblingen')\n",
    "ibmq_vigo = provider.get_backend('ibmq_vigo')\n",
    "ibmq_ourense = provider.get_backend('ibmq_ourense')\n",
    "ibmq_valencia = provider.get_backend('ibmq_valencia')\n",
    "ibmq_london = provider.get_backend('ibmq_london')\n",
    "ibmq_burlington = provider.get_backend('ibmq_burlington')\n",
    "ibmq_almaden = provider.get_backend('ibmq_almaden')\n",
    "ibmq_rochester = provider.get_backend('ibmq_rochester')\n",
    "ibmq_essex = provider.get_backend('ibmq_essex')"
   ]
  },
  {
   "cell_type": "code",
   "execution_count": 126,
   "metadata": {},
   "outputs": [],
   "source": [
    "# ibmq_20_tokyo"
   ]
  },
  {
   "cell_type": "code",
   "execution_count": 127,
   "metadata": {},
   "outputs": [],
   "source": [
    "# ibmq_rochester"
   ]
  },
  {
   "cell_type": "code",
   "execution_count": 128,
   "metadata": {},
   "outputs": [],
   "source": [
    "# pp.pprint(ibmq_almaden.configuration())"
   ]
  },
  {
   "cell_type": "markdown",
   "metadata": {},
   "source": [
    "# Bell-State"
   ]
  },
  {
   "cell_type": "code",
   "execution_count": 129,
   "metadata": {},
   "outputs": [],
   "source": [
    "# Create the pulse schedule\n",
    "qubits = [0, 1]\n",
    "schedules = []\n",
    "cnot_buffer = 4\n",
    "meas_buffer = 2\n",
    "shots = 1024\n",
    "\n",
    "meas = cmd_def.get('measure', qubits=tuple(range(n_qubits)))\n",
    "cnot = cmd_def.get('cx', qubits=qubits)\n",
    "\n",
    "# Create a calibration schedule for the ground state.\n",
    "schedule_bell = pulse.Schedule(name='Bell')\n",
    "\n",
    "H = cmd_def.get('u2', qubits=qubits[0], P0=0., P1=np.pi)\n",
    "schedule_bell += H\n",
    "\n",
    "schedule_bell += cnot << (schedule_bell.duration + cnot_buffer)\n",
    "\n",
    "schedule_bell += meas << (schedule_bell.duration + meas_buffer)\n",
    "\n",
    "schedules = [schedule_bell]"
   ]
  },
  {
   "cell_type": "code",
   "execution_count": 111,
   "metadata": {},
   "outputs": [
    {
     "data": {
      "image/png": "[encoded data removed]",
      "text/plain": [
       "<Figure size 720x864 with 2 Axes>"
      ]
     },
     "execution_count": 111,
     "metadata": {},
     "output_type": "execute_result"
    }
   ],
   "source": [
    "plt_chs = []\n",
    "for q in [0, 1]:\n",
    "    plt_chs.append(device.qubits[q].measure)\n",
    "    plt_chs.append(device.qubits[q].drive)\n",
    "\n",
    "schedules[0].draw(channels_to_plot=plt_chs, scaling=10.)"
   ]
  },
  {
   "cell_type": "code",
   "execution_count": 130,
   "metadata": {},
   "outputs": [],
   "source": [
    "qobj = assemble(schedules, backend, meas_level=1, meas_return='single', shots=shots)\n",
    "job= backend.run(qobj)"
   ]
  },
  {
   "cell_type": "code",
   "execution_count": 131,
   "metadata": {},
   "outputs": [],
   "source": [
    "result = job.result()"
   ]
  },
  {
   "cell_type": "code",
   "execution_count": 146,
   "metadata": {},
   "outputs": [],
   "source": [
    "import pickle\n",
    "with open(\"bell.pickle\",\"wb\") as f:\n",
    "    pickle.dump(result, f)"
   ]
  }
 ],
 "metadata": {
  "kernelspec": {
   "display_name": "Python 3",
   "language": "python",
   "name": "python3"
  },
  "language_info": {
   "codemirror_mode": {
    "name": "ipython",
    "version": 3
   },
   "file_extension": ".py",
   "mimetype": "text/x-python",
   "name": "python",
   "nbconvert_exporter": "python",
   "pygments_lexer": "ipython3",
   "version": "3.7.3"
  }
 },
 "nbformat": 4,
 "nbformat_minor": 2
}
