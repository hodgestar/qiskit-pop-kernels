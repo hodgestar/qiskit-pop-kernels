{
 "cells": [
  {
   "cell_type": "markdown",
   "metadata": {},
   "source": [
    "# Measure X and K using qiskit.pulse"
   ]
  },
  {
   "cell_type": "code",
   "execution_count": 1,
   "metadata": {},
   "outputs": [],
   "source": [
    "%matplotlib inline"
   ]
  },
  {
   "cell_type": "code",
   "execution_count": 40,
   "metadata": {},
   "outputs": [
    {
     "name": "stderr",
     "output_type": "stream",
     "text": [
      "/home/simon/venvs/qiskit-pop-kernels/lib/python3.7/site-packages/ipywidgets/widgets/widget_layout.py:84: DeprecationWarning: Layout properties overflow_x and overflow_y have been deprecated and will be dropped in a future release. Please use the overflow shorthand property instead\n",
      "  warnings.warn(\"Layout properties overflow_x and overflow_y have been deprecated and will be dropped in a future release. Please use the overflow shorthand property instead\", DeprecationWarning)\n"
     ]
    },
    {
     "data": {
      "application/vnd.jupyter.widget-view+json": {
       "model_id": "61e15ea672184bc4900b9dabc9b50ec2",
       "version_major": 2,
       "version_minor": 0
      },
      "text/plain": [
       "Accordion(children=(VBox(layout=Layout(max_width='710px', min_width='710px')),), layout=Layout(max_height='500…"
      ]
     },
     "metadata": {},
     "output_type": "display_data"
    },
    {
     "data": {
      "application/javascript": [
       "$('div.job_widget')\n",
       "        .detach()\n",
       "        .appendTo($('#header'))\n",
       "        .css({\n",
       "            'z-index': 999,\n",
       "             'position': 'fixed',\n",
       "            'box-shadow': '5px 5px 5px -3px black',\n",
       "            'opacity': 0.95,\n",
       "            'float': 'left,'\n",
       "        })\n",
       "        "
      ],
      "text/plain": [
       "<IPython.core.display.Javascript object>"
      ]
     },
     "metadata": {},
     "output_type": "display_data"
    }
   ],
   "source": [
    "import pickle\n",
    "\n",
    "import matplotlib.pyplot as plt\n",
    "import numpy as np\n",
    "import qiskit as qk\n",
    "import qiskit.tools.jupyter\n",
    "from qiskit.pulse import pulse_lib as qk_pulse_lib\n",
    "from qiskit.tools.monitor import job_monitor\n",
    "from scipy.optimize import curve_fit\n",
    "from scipy.special import factorial\n",
    "\n",
    "%qiskit_job_watcher"
   ]
  },
  {
   "cell_type": "markdown",
   "metadata": {},
   "source": [
    "## Load backend"
   ]
  },
  {
   "cell_type": "code",
   "execution_count": 3,
   "metadata": {},
   "outputs": [
    {
     "name": "stderr",
     "output_type": "stream",
     "text": [
      "/home/simon/venvs/qiskit-pop-kernels/lib/python3.7/site-packages/qiskit/providers/models/backendconfiguration.py:337: UserWarning: `dt` and `dtm` now have units of seconds(s) rather than nanoseconds(ns).\n",
      "  warnings.warn('`dt` and `dtm` now have units of seconds(s) rather '\n"
     ]
    }
   ],
   "source": [
    "# account_provider = qk.IBMQ.enable_account(\"XXX\")\n",
    "account_provider = qk.IBMQ.load_account()\n",
    "hub = account_provider.credentials.hub\n",
    "group = account_provider.credentials.group\n",
    "project = account_provider.credentials.project\n",
    "provider = qk.IBMQ.get_provider(hub=hub, group=group, project=project)\n",
    "backend = provider.get_backend(\"ibmq_armonk\")\n",
    "# provider = qk.IBMQ.get_provider(hub=\"ibm-q-ncsu\", group=\"reservations\", project=\"csc591-001-592-0\")\n",
    "# backend = provider.get_backend('ibmq_valencia')\n",
    "# provider = qk.IBMQ.get_provider(hub=\"ibm-q-ncsu\", group=\"nc-state\", project=\"csc-591-001-ece-\")\n",
    "# backend = provider.get_backend('ibmq_valencia')\n",
    "# provider.backends()"
   ]
  },
  {
   "cell_type": "code",
   "execution_count": 4,
   "metadata": {},
   "outputs": [
    {
     "data": {
      "text/plain": [
       "[<IBMQSimulator('ibmq_qasm_simulator') from IBMQ(hub='ibm-q', group='open', project='main')>,\n",
       " <IBMQBackend('ibmqx2') from IBMQ(hub='ibm-q', group='open', project='main')>,\n",
       " <IBMQBackend('ibmq_16_melbourne') from IBMQ(hub='ibm-q', group='open', project='main')>,\n",
       " <IBMQBackend('ibmq_vigo') from IBMQ(hub='ibm-q', group='open', project='main')>,\n",
       " <IBMQBackend('ibmq_ourense') from IBMQ(hub='ibm-q', group='open', project='main')>,\n",
       " <IBMQBackend('ibmq_london') from IBMQ(hub='ibm-q', group='open', project='main')>,\n",
       " <IBMQBackend('ibmq_burlington') from IBMQ(hub='ibm-q', group='open', project='main')>,\n",
       " <IBMQBackend('ibmq_essex') from IBMQ(hub='ibm-q', group='open', project='main')>,\n",
       " <IBMQBackend('ibmq_armonk') from IBMQ(hub='ibm-q', group='open', project='main')>]"
      ]
     },
     "execution_count": 4,
     "metadata": {},
     "output_type": "execute_result"
    }
   ],
   "source": [
    "provider.backends()"
   ]
  },
  {
   "cell_type": "code",
   "execution_count": 5,
   "metadata": {},
   "outputs": [
    {
     "name": "stderr",
     "output_type": "stream",
     "text": [
      "/home/simon/venvs/qiskit-pop-kernels/lib/python3.7/site-packages/qiskit/pulse/channels/pulse_channel_spec.py:87: DeprecationWarning: The PulseChannelSpec is deprecated. Use backend.configuration() instead. The supported methods require some migrations; check out the release notes for the complete details.\n",
      "  DeprecationWarning)\n",
      "/home/simon/venvs/qiskit-pop-kernels/lib/python3.7/site-packages/qiskit/pulse/cmd_def.py:66: DeprecationWarning: The CmdDef is being deprecated. All CmdDef methods are now supported by `InstructionScheduleMap` accessible as `backend.defaults().circuit_instruction_map` for any Pulse enabled system.\n",
      "  DeprecationWarning)\n",
      "/home/simon/venvs/qiskit-pop-kernels/lib/python3.7/site-packages/ipywidgets/widgets/widget_layout.py:84: DeprecationWarning: Layout properties overflow_x and overflow_y have been deprecated and will be dropped in a future release. Please use the overflow shorthand property instead\n",
      "  warnings.warn(\"Layout properties overflow_x and overflow_y have been deprecated and will be dropped in a future release. Please use the overflow shorthand property instead\", DeprecationWarning)\n"
     ]
    },
    {
     "data": {
      "application/vnd.jupyter.widget-view+json": {
       "model_id": "ea0d20ca7e4c453b9fd198c1719359ff",
       "version_major": 2,
       "version_minor": 0
      },
      "text/plain": [
       "VBox(children=(HTML(value=\"<h1 style='color:#ffffff;background-color:#000000;padding-top: 1%;padding-bottom: 1…"
      ]
     },
     "metadata": {},
     "output_type": "display_data"
    },
    {
     "data": {
      "text/plain": [
       "<IBMQBackend('ibmq_armonk') from IBMQ(hub='ibm-q', group='open', project='main')>"
      ]
     },
     "execution_count": 5,
     "metadata": {},
     "output_type": "execute_result"
    }
   ],
   "source": [
    "config = backend.configuration()\n",
    "defaults = backend.defaults()\n",
    "device = qk.pulse.PulseChannelSpec.from_backend(backend)\n",
    "cmd_def = qk.pulse.CmdDef.from_defaults(defaults.cmd_def, defaults.pulse_library)\n",
    "backend"
   ]
  },
  {
   "cell_type": "markdown",
   "metadata": {},
   "source": [
    "## Setup variables"
   ]
  },
  {
   "cell_type": "code",
   "execution_count": 129,
   "metadata": {},
   "outputs": [],
   "source": [
    "# measurement frequency range for qubit 0 (GHz)\n",
    "fr_0_range = config.meas_lo_range[0]\n",
    "# centre of measurement frequency range for qubit 0 (GHz)\n",
    "fr = sum(fr_0_range) / 2\n",
    "# centre of measurement frequency for all qubits (GHz)\n",
    "fr_all_qubits = [sum(r) / 2 for r in config.meas_lo_range]\n",
    "# how far on either side of the centre frequency to search (in GHz)\n",
    "fr_delta = 1.0e-3\n",
    "# frequency steps\n",
    "fr_steps = np.linspace(fr - fr_delta, fr + fr_delta, 101)\n",
    "# check frequency steps\n",
    "assert all(fr_0_range[0] < x < fr_0_range[1] for x in fr_steps)\n",
    "\n",
    "qubit = 0  # which qubit to measure\n",
    "drive_chan = qk.pulse.DriveChannel(qubit)\n",
    "meas_chan = qk.pulse.MeasureChannel(qubit)\n",
    "acq_chan = qk.pulse.AcquireChannel(qubit)\n",
    "dt = config.dt  # sampling time in seconds\n",
    "meas_buffer = 16  # time to wait before applying the measurement pulse (in samples)\n",
    "\n",
    "FAKE_DATA, LOAD_DATA, REAL_DATA = range(3)\n",
    "data_mode = LOAD_DATA"
   ]
  },
  {
   "cell_type": "code",
   "execution_count": 7,
   "metadata": {},
   "outputs": [],
   "source": [
    "def poisson(k, lamb):\n",
    "    \"\"\" Poisson function (NOT used to fit the frequency responses).\n",
    "\n",
    "        See http://mathworld.wolfram.com/PoissonDistribution.html.\n",
    "    \"\"\"\n",
    "    return (lamb**k / factorial(k)) * np.exp(-lamb)"
   ]
  },
  {
   "cell_type": "code",
   "execution_count": 8,
   "metadata": {},
   "outputs": [],
   "source": [
    "def gaussian(x, a, mu, sigma):\n",
    "    \"\"\" Gaussian function (NOT used to fit the frequency responses).\n",
    "    \n",
    "        See http://mathworld.wolfram.com/GaussianFunction.html.\n",
    "    \"\"\"\n",
    "    return a * np.exp(-(x - mu)**2 / (2. * sigma**2))"
   ]
  },
  {
   "cell_type": "code",
   "execution_count": 9,
   "metadata": {},
   "outputs": [],
   "source": [
    "def lorentzian(x, x0, a, gamma):\n",
    "    \"\"\" Lorentzian function (used to fit the frequency responses).\n",
    "    \n",
    "        See http://mathworld.wolfram.com/LorentzianFunction.html.\n",
    "    \"\"\"\n",
    "    return a * (1 / np.pi) * (0.5 * gamma**2) / (0.25 * gamma**2 + (x - x0)**2)"
   ]
  },
  {
   "cell_type": "markdown",
   "metadata": {},
   "source": [
    "## Run measurements on |0> and |1> across a range of frequencies"
   ]
  },
  {
   "cell_type": "code",
   "execution_count": 10,
   "metadata": {},
   "outputs": [],
   "source": [
    "def closest_multiple_of_16(n):\n",
    "    \"\"\" Textbook says pulses must be multiples of 16 samples \"\"\"\n",
    "    return (int(n) - (int(n) % 16))"
   ]
  },
  {
   "cell_type": "code",
   "execution_count": 11,
   "metadata": {},
   "outputs": [],
   "source": [
    "def meas_map_group(q):\n",
    "    \"\"\" Return the measurement map that contains the qubit \"\"\"\n",
    "    for measure_group in config.meas_map:\n",
    "        if qubit in measure_group:\n",
    "            return measure_group\n",
    "    raise ValueError(\"Qubit not found in meas_map\")"
   ]
  },
  {
   "cell_type": "code",
   "execution_count": 12,
   "metadata": {},
   "outputs": [],
   "source": [
    "def measurement_cmd():\n",
    "    \"\"\" Construct the measurement command pulse. \"\"\"\n",
    "    meas_samples_us = 3.0\n",
    "    meas_sigma_us = 0.014\n",
    "    meas_risefall_us = 0.1\n",
    "    meas_amp = 0.25\n",
    "\n",
    "    meas_samples = closest_multiple_of_16(meas_samples_us * 1e-6/dt)\n",
    "    meas_sigma = closest_multiple_of_16(meas_sigma_us * 1e-6/dt)\n",
    "    meas_risefall = closest_multiple_of_16(meas_risefall_us * 1e-6/dt)\n",
    "\n",
    "    meas_pulse = qk_pulse_lib.gaussian_square(\n",
    "        duration=meas_samples,\n",
    "        sigma=meas_sigma,\n",
    "        amp=meas_amp,\n",
    "        risefall=meas_risefall,\n",
    "        name='measurement_pulse',\n",
    "    )\n",
    "\n",
    "    acq_pulse = qk.pulse.Acquire(duration=meas_samples)\n",
    "    return meas_pulse, acq_pulse"
   ]
  },
  {
   "cell_type": "code",
   "execution_count": 16,
   "metadata": {},
   "outputs": [],
   "source": [
    "def create_schedule(state):\n",
    "    \"\"\" Create an experiment schedule. \"\"\"\n",
    "\n",
    "    meas = cmd_def.get('measure', qubits=tuple(range(config.n_qubits)))\n",
    "\n",
    "    schedule = qk.pulse.Schedule(name='measure_{}'.format(state))\n",
    "    if state == \"0\":\n",
    "        schedule += meas\n",
    "    else:\n",
    "        schedule += cmd_def.get('x', qubits=qubit)\n",
    "        schedule += meas << (schedule.duration + meas_buffer)    \n",
    "\n",
    "    # drive_schedule = cmd_def.get('x', qubits=qubit)\n",
    "    # print(drive_schedule.duration)\n",
    "    \n",
    "    # meas_pulse, acq_pulse = measurement_cmd()\n",
    "    # measure_schedule = meas_pulse(meas_chan)\n",
    "    # measurement_group = meas_map_group(qubit)\n",
    "    # measure_schedule += acq_pulse(\n",
    "    #    [qk.pulse.AcquireChannel(i) for i in measurement_group],\n",
    "    #    [qk.pulse.MemorySlot(i) for i in measurement_group],\n",
    "    # )\n",
    "\n",
    "    # schedule = qk.pulse.Schedule(name='Measurement frequency sweep')\n",
    "    # if state == \"XXX\":  # XXX \"1\":\n",
    "    #     schedule += drive_schedule << schedule.duration\n",
    "    # schedule += measure_schedule << (schedule.duration)  # XXX: + meas_buffer)\n",
    "\n",
    "    return schedule\n",
    "\n",
    "f0_schedule = create_schedule(state=\"0\")\n",
    "f1_schedule = create_schedule(state=\"1\")"
   ]
  },
  {
   "cell_type": "code",
   "execution_count": 17,
   "metadata": {},
   "outputs": [
    {
     "name": "stdout",
     "output_type": "stream",
     "text": [
      "Schedule durations:\n",
      " f0: 16000 0\n",
      " f1: 16656 0\n"
     ]
    }
   ],
   "source": [
    "print(\"Schedule durations:\")\n",
    "print(\" f0:\", f0_schedule.duration, f0_schedule.duration % 16)\n",
    "print(\" f1:\", f1_schedule.duration, f1_schedule.duration % 16)"
   ]
  },
  {
   "cell_type": "code",
   "execution_count": 18,
   "metadata": {},
   "outputs": [
    {
     "name": "stderr",
     "output_type": "stream",
     "text": [
      "/home/simon/venvs/qiskit-pop-kernels/lib/python3.7/site-packages/IPython/core/interactiveshell.py:3319: DeprecationWarning: The parameter \"channels_to_plot\" is being replaced by \"channels\"\n",
      "  exec(code_obj, self.user_global_ns, self.user_ns)\n"
     ]
    },
    {
     "data": {
      "image/png": "[encoded data removed]",
      "text/plain": [
       "<Figure size 720x864 with 1 Axes>"
      ]
     },
     "execution_count": 18,
     "metadata": {},
     "output_type": "execute_result"
    }
   ],
   "source": [
    "f0_schedule.draw(channels_to_plot=[drive_chan, meas_chan], label=True, scaling=1.0)"
   ]
  },
  {
   "cell_type": "code",
   "execution_count": 19,
   "metadata": {},
   "outputs": [
    {
     "data": {
      "image/png": "[encoded data removed]",
      "text/plain": [
       "<Figure size 720x864 with 1 Axes>"
      ]
     },
     "execution_count": 19,
     "metadata": {},
     "output_type": "execute_result"
    }
   ],
   "source": [
    "f1_schedule.draw(channels_to_plot=[drive_chan, meas_chan], label=True, scaling=1.0)"
   ]
  },
  {
   "cell_type": "code",
   "execution_count": 38,
   "metadata": {},
   "outputs": [],
   "source": [
    "def mk_qobj(fr):\n",
    "    meas_lo_freq = [fr]\n",
    "    qobj = qk.assemble(\n",
    "        [f0_schedule, f1_schedule], backend=backend, meas_level=1, meas_return='single',\n",
    "        meas_lo_freq=meas_lo_freq, shots=512,\n",
    "    )\n",
    "    return qobj"
   ]
  },
  {
   "cell_type": "code",
   "execution_count": 23,
   "metadata": {},
   "outputs": [],
   "source": [
    "def generate_real_data(start=0):\n",
    "    results = []\n",
    "    print(\"Frequency steps:\", len(fr_steps))\n",
    "    for i, fr in enumerate(fr_steps):\n",
    "        if i < start:\n",
    "            continue\n",
    "        print(\" Step:\", i, fr)\n",
    "        job = backend.run(mk_qobj(fr))\n",
    "        result = job.result(timeout=3600)\n",
    "        full_result = {\n",
    "            \"measurement_frequency\": fr,\n",
    "            \"result\": result,\n",
    "        }\n",
    "        results.append(full_result)\n",
    "        with open(\"./xk_results/ibmq_armonk_x_and_k.{}.pickle\".format(i), \"wb\") as f:\n",
    "            pickle.dump(full_result, f)\n",
    "    \n",
    "    return results"
   ]
  },
  {
   "cell_type": "code",
   "execution_count": 133,
   "metadata": {},
   "outputs": [],
   "source": [
    "def load_saved_data():\n",
    "    results = []\n",
    "    for i, fr in enumerate(fr_steps):\n",
    "        with open(\"./xk_results/ibmq_armonk_x_and_k.{}.pickle\".format(i), \"rb\") as f:\n",
    "            full_result = pickle.load(f)\n",
    "        results.append(full_result)\n",
    "    return results"
   ]
  },
  {
   "cell_type": "code",
   "execution_count": 25,
   "metadata": {},
   "outputs": [],
   "source": [
    "def fake_readings(f_centre, x_steps, noise=1e-6):\n",
    "    \"\"\" Generate fake readings. \"\"\"\n",
    "    return lorentzian(x_steps, f_centre, 10., 0.5) + noise * np.random.uniform(size=x_steps.shape)\n",
    "\n",
    "def generate_fake_data():\n",
    "    f0 = fake_readings(fr - fr_delta / 2, fr_steps)\n",
    "    f1 = fake_readings(fr + fr_delta / 2, fr_steps)\n",
    "    return f0, f1"
   ]
  },
  {
   "cell_type": "code",
   "execution_count": 34,
   "metadata": {},
   "outputs": [
    {
     "data": {
      "text/plain": [
       "(6.993427855, 101, 6.992427855, 6.993427855, 6.994407855)"
      ]
     },
     "execution_count": 34,
     "metadata": {},
     "output_type": "execute_result"
    }
   ],
   "source": [
    "# last check before gathering data\n",
    "fr, len(fr_steps), fr_steps[0], fr_steps[50], fr_steps[99]"
   ]
  },
  {
   "cell_type": "code",
   "execution_count": 134,
   "metadata": {},
   "outputs": [],
   "source": [
    "r = {\n",
    "    REAL_DATA: generate_real_data,\n",
    "    LOAD_DATA: load_saved_data,\n",
    "    FAKE_DATA: generate_fake_data,\n",
    "}[data_mode]()"
   ]
  },
  {
   "cell_type": "code",
   "execution_count": 135,
   "metadata": {},
   "outputs": [],
   "source": [
    "f0_single = [np.array(row['result'].results[0].data.memory)[:, 0, :] for row in r]\n",
    "f0 = np.array([np.linalg.norm(np.sum(a, 0) / 512) for a in f0_single])\n",
    "\n",
    "f1_single = [np.array(row['result'].results[1].data.memory)[:, 0, :] for row in r]\n",
    "f1 = np.array([np.linalg.norm(np.sum(a, 0) / 512) for a in f1_single])"
   ]
  },
  {
   "cell_type": "markdown",
   "metadata": {},
   "source": [
    "## Plot measurement response as a function of frequency"
   ]
  },
  {
   "cell_type": "code",
   "execution_count": 136,
   "metadata": {},
   "outputs": [
    {
     "data": {
      "text/plain": [
       "[<matplotlib.lines.Line2D at 0x7f4214359160>]"
      ]
     },
     "execution_count": 136,
     "metadata": {},
     "output_type": "execute_result"
    },
    {
     "data": {
      "image/png": "[encoded data removed]",
      "text/plain": [
       "<Figure size 432x288 with 1 Axes>"
      ]
     },
     "metadata": {
      "needs_background": "light"
     },
     "output_type": "display_data"
    }
   ],
   "source": [
    "plt.plot(fr_steps, f0, 'rx')\n",
    "plt.plot(fr_steps, f1, 'bx')"
   ]
  },
  {
   "cell_type": "markdown",
   "metadata": {},
   "source": [
    "## Fit Lorentzian distribution to frequency responses"
   ]
  },
  {
   "cell_type": "code",
   "execution_count": 137,
   "metadata": {},
   "outputs": [
    {
     "data": {
      "text/plain": [
       "[<matplotlib.lines.Line2D at 0x7f4214a63b00>]"
      ]
     },
     "execution_count": 137,
     "metadata": {},
     "output_type": "execute_result"
    },
    {
     "data": {
      "image/png": "[encoded data removed]",
      "text/plain": [
       "<Figure size 432x288 with 1 Axes>"
      ]
     },
     "metadata": {
      "needs_background": "light"
     },
     "output_type": "display_data"
    }
   ],
   "source": [
    "f0_inv = 1.75e11 - f0\n",
    "f1_inv = 1.75e11 - f1\n",
    "\n",
    "initial_fit_f0 = [fr, np.max(f0_inv), 0.001]\n",
    "initial_fit_f1 = [fr, np.max(f1_inv), 0.001]\n",
    "\n",
    "f0_fit, f0_cov_matrix = curve_fit(lorentzian, fr_steps, f0_inv, p0=initial_fit_f0, maxfev=50000)\n",
    "f0_centre, f0_a, f0_gamma = f0_fit\n",
    "\n",
    "f1_fit, f1_cov_matrix = curve_fit(lorentzian, fr_steps, f1_inv, p0=initial_fit_f1, maxfev=50000)\n",
    "f1_centre, f1_a, f1_gamma = f1_fit\n",
    "\n",
    "plt.plot(fr_steps, f0_inv, 'rx')\n",
    "plt.plot(fr_steps, f1_inv, 'bx')\n",
    "plt.plot(fr_steps, lorentzian(fr_steps, *f0_fit), 'r-', lw=2)\n",
    "plt.plot(fr_steps, lorentzian(fr_steps, *f1_fit), 'b-', lw=2)"
   ]
  },
  {
   "cell_type": "code",
   "execution_count": 138,
   "metadata": {},
   "outputs": [
    {
     "data": {
      "text/plain": [
       "(6.993440649089158, 6.993398055379468, 6.993427855)"
      ]
     },
     "execution_count": 138,
     "metadata": {},
     "output_type": "execute_result"
    }
   ],
   "source": [
    "f0_centre, f1_centre, fr"
   ]
  },
  {
   "cell_type": "markdown",
   "metadata": {},
   "source": [
    "## Determine X and K from fits"
   ]
  },
  {
   "cell_type": "code",
   "execution_count": 139,
   "metadata": {},
   "outputs": [
    {
     "data": {
      "text/plain": [
       "2.1296854844976565e-05"
      ]
     },
     "execution_count": 139,
     "metadata": {},
     "output_type": "execute_result"
    }
   ],
   "source": [
    "X = (f0_centre - f1_centre) / 2\n",
    "X"
   ]
  },
  {
   "cell_type": "code",
   "execution_count": 140,
   "metadata": {},
   "outputs": [
    {
     "data": {
      "text/plain": [
       "0.00018750528993501973"
      ]
     },
     "execution_count": 140,
     "metadata": {},
     "output_type": "execute_result"
    }
   ],
   "source": [
    "avg_sigma = np.abs((f0_gamma + f1_gamma) / 2)\n",
    "K = 2 * (2 * np.log(2)) ** 0.5 * avg_sigma  # averge FWHM\n",
    "K"
   ]
  },
  {
   "cell_type": "code",
   "execution_count": null,
   "metadata": {},
   "outputs": [],
   "source": []
  }
 ],
 "metadata": {
  "kernelspec": {
   "display_name": "Python 3",
   "language": "python",
   "name": "python3"
  },
  "language_info": {
   "codemirror_mode": {
    "name": "ipython",
    "version": 3
   },
   "file_extension": ".py",
   "mimetype": "text/x-python",
   "name": "python",
   "nbconvert_exporter": "python",
   "pygments_lexer": "ipython3",
   "version": "3.7.3"
  }
 },
 "nbformat": 4,
 "nbformat_minor": 2
}
