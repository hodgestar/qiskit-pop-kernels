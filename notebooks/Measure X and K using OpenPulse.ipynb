{
 "cells": [
  {
   "cell_type": "markdown",
   "metadata": {},
   "source": [
    "# Measure X and K using qiskit.pulse"
   ]
  },
  {
   "cell_type": "code",
   "execution_count": 1,
   "metadata": {},
   "outputs": [],
   "source": [
    "%matplotlib inline"
   ]
  },
  {
   "cell_type": "code",
   "execution_count": 2,
   "metadata": {},
   "outputs": [],
   "source": [
    "import matplotlib.pyplot as plt\n",
    "import numpy as np\n",
    "import qiskit as qk\n",
    "import qiskit.tools.jupyter\n",
    "from scipy.optimize import curve_fit\n",
    "from scipy.special import factorial"
   ]
  },
  {
   "cell_type": "markdown",
   "metadata": {},
   "source": [
    "## Load backend"
   ]
  },
  {
   "cell_type": "code",
   "execution_count": 3,
   "metadata": {},
   "outputs": [
    {
     "name": "stderr",
     "output_type": "stream",
     "text": [
      "/home/simon/venvs/qiskit-pop-kernels/lib/python3.7/site-packages/qiskit/providers/models/backendconfiguration.py:337: UserWarning: `dt` and `dtm` now have units of seconds(s) rather than nanoseconds(ns).\n",
      "  warnings.warn('`dt` and `dtm` now have units of seconds(s) rather '\n"
     ]
    }
   ],
   "source": [
    "account_provider = qk.IBMQ.load_account()\n",
    "hub = account_provider.credentials.hub\n",
    "group = account_provider.credentials.group\n",
    "project = account_provider.credentials.project"
   ]
  },
  {
   "cell_type": "code",
   "execution_count": 4,
   "metadata": {},
   "outputs": [
    {
     "name": "stderr",
     "output_type": "stream",
     "text": [
      "/home/simon/venvs/qiskit-pop-kernels/lib/python3.7/site-packages/qiskit/pulse/channels/pulse_channel_spec.py:87: DeprecationWarning: The PulseChannelSpec is deprecated. Use backend.configuration() instead. The supported methods require some migrations; check out the release notes for the complete details.\n",
      "  DeprecationWarning)\n",
      "/home/simon/venvs/qiskit-pop-kernels/lib/python3.7/site-packages/ipywidgets/widgets/widget_layout.py:84: DeprecationWarning: Layout properties overflow_x and overflow_y have been deprecated and will be dropped in a future release. Please use the overflow shorthand property instead\n",
      "  warnings.warn(\"Layout properties overflow_x and overflow_y have been deprecated and will be dropped in a future release. Please use the overflow shorthand property instead\", DeprecationWarning)\n"
     ]
    },
    {
     "data": {
      "application/vnd.jupyter.widget-view+json": {
       "model_id": "89853148efef4e16b06b87988ab897a4",
       "version_major": 2,
       "version_minor": 0
      },
      "text/plain": [
       "VBox(children=(HTML(value=\"<h1 style='color:#ffffff;background-color:#000000;padding-top: 1%;padding-bottom: 1…"
      ]
     },
     "metadata": {},
     "output_type": "display_data"
    },
    {
     "data": {
      "text/plain": [
       "<IBMQBackend('ibmq_armonk') from IBMQ(hub='ibm-q', group='open', project='main')>"
      ]
     },
     "execution_count": 4,
     "metadata": {},
     "output_type": "execute_result"
    }
   ],
   "source": [
    "provider = qk.IBMQ.get_provider(hub=hub, group=group, project=project)\n",
    "backend = provider.get_backend('ibmq_armonk')\n",
    "config = backend.configuration()\n",
    "device = qk.pulse.PulseChannelSpec.from_backend(backend)\n",
    "backend"
   ]
  },
  {
   "cell_type": "markdown",
   "metadata": {},
   "source": [
    "## Setup variables"
   ]
  },
  {
   "cell_type": "code",
   "execution_count": 5,
   "metadata": {},
   "outputs": [],
   "source": [
    "fr_range = config.meas_lo_range[0]  # measurement frequency range (GHz)\n",
    "fr = sum(fr_range) / 2  # centre of measurement frequency range (GHz)\n",
    "fr_delta = 5.0e-3  # how far on either side of the centre frequency to search (in GHz)\n",
    "fr_steps = np.linspace(fr - fr_delta, fr + fr_delta, 100)  # step size for frequency search"
   ]
  },
  {
   "cell_type": "code",
   "execution_count": 6,
   "metadata": {},
   "outputs": [],
   "source": [
    "def poisson(k, lamb):\n",
    "    \"\"\" Poisson function (NOT used to fit the frequency responses).\n",
    "\n",
    "        See http://mathworld.wolfram.com/PoissonDistribution.html.\n",
    "    \"\"\"\n",
    "    return (lamb**k / factorial(k)) * np.exp(-lamb)"
   ]
  },
  {
   "cell_type": "code",
   "execution_count": 7,
   "metadata": {},
   "outputs": [],
   "source": [
    "def gaussian(x, a, mu, sigma):\n",
    "    \"\"\" Gaussian function (NOT used to fit the frequency responses).\n",
    "    \n",
    "        See http://mathworld.wolfram.com/GaussianFunction.html.\n",
    "    \"\"\"\n",
    "    return a * np.exp(-(x - mu)**2 / (2. * sigma**2))"
   ]
  },
  {
   "cell_type": "code",
   "execution_count": 8,
   "metadata": {},
   "outputs": [],
   "source": [
    "def lorentzian(x, x0, a, gamma):\n",
    "    \"\"\" Lorentzian function (used to fit the frequency responses).\n",
    "    \n",
    "        See http://mathworld.wolfram.com/LorentzianFunction.html.\n",
    "    \"\"\"\n",
    "    return a * (1 / np.pi) * (0.5 * gamma**2) / (0.25 * gamma**2 + (x - x0)**2)"
   ]
  },
  {
   "cell_type": "markdown",
   "metadata": {},
   "source": [
    "## Run measurements on |0> and |1> across a range of frequencies"
   ]
  },
  {
   "cell_type": "code",
   "execution_count": 9,
   "metadata": {},
   "outputs": [],
   "source": [
    "# TODO"
   ]
  },
  {
   "cell_type": "code",
   "execution_count": 10,
   "metadata": {},
   "outputs": [],
   "source": [
    "def fake_readings(f_centre, x_steps, noise=1e-6):\n",
    "    \"\"\" Generate fake readings. \"\"\"\n",
    "    return lorentzian(x_steps, f_centre, 10., 0.5) + noise * np.random.uniform(size=x_steps.shape)"
   ]
  },
  {
   "cell_type": "code",
   "execution_count": 11,
   "metadata": {},
   "outputs": [],
   "source": [
    "f0 = fake_readings(fr - fr_delta / 2, fr_steps)\n",
    "f1 = fake_readings(fr + fr_delta / 2, fr_steps)"
   ]
  },
  {
   "cell_type": "markdown",
   "metadata": {},
   "source": [
    "## Plot measurement response as a function of frequency"
   ]
  },
  {
   "cell_type": "code",
   "execution_count": 12,
   "metadata": {},
   "outputs": [
    {
     "data": {
      "text/plain": [
       "[<matplotlib.lines.Line2D at 0x7fcb0373c940>]"
      ]
     },
     "execution_count": 12,
     "metadata": {},
     "output_type": "execute_result"
    },
    {
     "data": {
      "image/png": "[encoded data removed]",
      "text/plain": [
       "<Figure size 432x288 with 1 Axes>"
      ]
     },
     "metadata": {
      "needs_background": "light"
     },
     "output_type": "display_data"
    }
   ],
   "source": [
    "plt.plot(fr_steps, f0, 'rx')\n",
    "plt.plot(fr_steps, f1, 'bx')"
   ]
  },
  {
   "cell_type": "markdown",
   "metadata": {},
   "source": [
    "## Fit Lorentzian distribution to frequency responses"
   ]
  },
  {
   "cell_type": "code",
   "execution_count": 13,
   "metadata": {},
   "outputs": [
    {
     "data": {
      "text/plain": [
       "[<matplotlib.lines.Line2D at 0x7fcb036df908>]"
      ]
     },
     "execution_count": 13,
     "metadata": {},
     "output_type": "execute_result"
    },
    {
     "data": {
      "image/png": "[encoded data removed]",
      "text/plain": [
       "<Figure size 432x288 with 1 Axes>"
      ]
     },
     "metadata": {
      "needs_background": "light"
     },
     "output_type": "display_data"
    }
   ],
   "source": [
    "initial_fit = [fr, 1., 1.]\n",
    "\n",
    "f0_fit, f0_cov_matrix = curve_fit(lorentzian, fr_steps, f0, p0=initial_fit)\n",
    "f0_centre, f0_a, f0_gamma = f0_fit\n",
    "\n",
    "f1_fit, f1_cov_matrix = curve_fit(lorentzian, fr_steps, f1, p0=initial_fit)\n",
    "f1_centre, f1_a, f1_gamma = f1_fit\n",
    "\n",
    "plt.plot(fr_steps, f0, 'rx')\n",
    "plt.plot(fr_steps, f1, 'bx')\n",
    "plt.plot(fr_steps, lorentzian(fr_steps, *f0_fit), 'r-', lw=2)\n",
    "plt.plot(fr_steps, lorentzian(fr_steps, *f1_fit), 'b-', lw=2)"
   ]
  },
  {
   "cell_type": "code",
   "execution_count": 14,
   "metadata": {},
   "outputs": [
    {
     "data": {
      "text/plain": [
       "(6.990927915496268, 6.995928066330187)"
      ]
     },
     "execution_count": 14,
     "metadata": {},
     "output_type": "execute_result"
    }
   ],
   "source": [
    "f0_centre, f1_centre"
   ]
  },
  {
   "cell_type": "markdown",
   "metadata": {},
   "source": [
    "## Determine X and K from fits"
   ]
  },
  {
   "cell_type": "code",
   "execution_count": 15,
   "metadata": {},
   "outputs": [
    {
     "data": {
      "text/plain": [
       "0.002500075416959291"
      ]
     },
     "execution_count": 15,
     "metadata": {},
     "output_type": "execute_result"
    }
   ],
   "source": [
    "X = (f1_centre - f0_centre) / 2\n",
    "X"
   ]
  },
  {
   "cell_type": "code",
   "execution_count": 16,
   "metadata": {},
   "outputs": [
    {
     "data": {
      "text/plain": [
       "1.177420804765176"
      ]
     },
     "execution_count": 16,
     "metadata": {},
     "output_type": "execute_result"
    }
   ],
   "source": [
    "avg_sigma = np.abs((f1_gamma + f0_gamma) / 2)\n",
    "K = 2 * (2 * np.log(2)) ** 0.5 * avg_sigma  # averge FWHM\n",
    "K"
   ]
  },
  {
   "cell_type": "code",
   "execution_count": null,
   "metadata": {},
   "outputs": [],
   "source": []
  }
 ],
 "metadata": {
  "kernelspec": {
   "display_name": "Python 3",
   "language": "python",
   "name": "python3"
  },
  "language_info": {
   "codemirror_mode": {
    "name": "ipython",
    "version": 3
   },
   "file_extension": ".py",
   "mimetype": "text/x-python",
   "name": "python",
   "nbconvert_exporter": "python",
   "pygments_lexer": "ipython3",
   "version": "3.7.3"
  }
 },
 "nbformat": 4,
 "nbformat_minor": 2
}
